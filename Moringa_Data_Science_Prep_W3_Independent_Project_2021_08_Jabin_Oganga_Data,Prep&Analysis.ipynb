{
  "nbformat": 4,
  "nbformat_minor": 0,
  "metadata": {
    "colab": {
      "name": "Moringa_Data_Science_Prep_W3_Independent_Project_2021_08_Jabin_Oganga_Data,Prep&Analysis.ipynb",
      "private_outputs": true,
      "provenance": [],
      "collapsed_sections": [],
      "authorship_tag": "ABX9TyMwJPkeYY/DkeQ6q6akf0t3",
      "include_colab_link": true
    },
    "kernelspec": {
      "name": "python3",
      "display_name": "Python 3"
    },
    "language_info": {
      "name": "python"
    }
  },
  "cells": [
    {
      "cell_type": "markdown",
      "metadata": {
        "id": "view-in-github",
        "colab_type": "text"
      },
      "source": [
        "<a href=\"https://colab.research.google.com/github/JABINOGANGA/Moringa-Wk3-CollabNote-Book-Jabin-/blob/main/Moringa_Data_Science_Prep_W3_Independent_Project_2021_08_Jabin_Oganga_Data%2CPrep%26Analysis.ipynb\" target=\"_parent\"><img src=\"https://colab.research.google.com/assets/colab-badge.svg\" alt=\"Open In Colab\"/></a>"
      ]
    },
    {
      "cell_type": "code",
      "metadata": {
        "id": "zIN2bbTvGkOc"
      },
      "source": [
        "import pandas as pd\n",
        "\n",
        "import numpy as np"
      ],
      "execution_count": null,
      "outputs": []
    },
    {
      "cell_type": "code",
      "metadata": {
        "id": "y4LILgntJWfO"
      },
      "source": [
        "# Upload the CSV files \n",
        "df1 = pd.read_csv('cells_geo.csv', delimiter = ',')\n",
        "df1.drop_duplicates()\n",
        "\n",
        "\n"
      ],
      "execution_count": null,
      "outputs": []
    },
    {
      "cell_type": "code",
      "metadata": {
        "id": "o1ok7_snJp1f"
      },
      "source": [
        "# Upload the CSV files \n",
        "df2 = pd.read_csv('cells_geo_description.csv', delimiter = ',')\n",
        "df2.drop_duplicates()\n"
      ],
      "execution_count": null,
      "outputs": []
    },
    {
      "cell_type": "code",
      "metadata": {
        "id": "35y1BsmDfZCx"
      },
      "source": [
        "# Drop all the values with empty data\n",
        "df2.dropna( axis = 0)"
      ],
      "execution_count": null,
      "outputs": []
    },
    {
      "cell_type": "code",
      "metadata": {
        "id": "wVVNYFNkJsEo"
      },
      "source": [
        "# Drop all the values that have been duplicated\n",
        "df3 = pd.read_csv('CDR_description.csv', delimiter = ',')\n",
        "df3.drop_duplicates()\n"
      ],
      "execution_count": null,
      "outputs": []
    },
    {
      "cell_type": "code",
      "metadata": {
        "id": "-R_tLYALJtJb"
      },
      "source": [
        "# Load the Telecom 3 dataset and label it as d4\n",
        "df4 = pd.read_csv('Telcom_dataset3.csv', delimiter = ',')\n",
        "\n"
      ],
      "execution_count": null,
      "outputs": []
    },
    {
      "cell_type": "code",
      "metadata": {
        "id": "0EntArTOfwqF"
      },
      "source": [
        "# Drop the country column as we are focused in one country \n",
        "df4.drop(['COUNTRY_A', 'COUNTRY_B'], axis = 1, inplace =True )\n",
        "df4"
      ],
      "execution_count": null,
      "outputs": []
    },
    {
      "cell_type": "code",
      "metadata": {
        "id": "JTmgkBTRJuBi"
      },
      "source": [
        "# Load the Telecom 2 dataset and label it as d5\n",
        "df5 = pd.read_csv('Telcom_dataset2.csv', delimiter = ',')\n",
        "df5\n"
      ],
      "execution_count": null,
      "outputs": []
    },
    {
      "cell_type": "code",
      "metadata": {
        "id": "bbgXeQZHhDkd"
      },
      "source": [
        "df5.drop(['COUNTRY_A', 'COUNTRY_B'], axis = 1, inplace =True )\n",
        "df5"
      ],
      "execution_count": null,
      "outputs": []
    },
    {
      "cell_type": "code",
      "metadata": {
        "id": "ca4-_sbMMS7d"
      },
      "source": [
        "# Load the Telecom 3 dataset and label it as d4\n",
        "df6 = pd.read_csv('Telcom_dataset.csv', delimiter = ',')\n",
        "df6\n"
      ],
      "execution_count": null,
      "outputs": []
    },
    {
      "cell_type": "code",
      "metadata": {
        "id": "aUOd0VZrhJiz"
      },
      "source": [
        "df6\n"
      ],
      "execution_count": null,
      "outputs": []
    },
    {
      "cell_type": "code",
      "metadata": {
        "id": "wJ4Tdo3RksOM"
      },
      "source": [
        "# change the names of the product to merge with d4 and d5 \n",
        "df6.rename(columns = {'PRODUTC': 'PRODUCT'}, inplace = True )\n",
        "df6"
      ],
      "execution_count": null,
      "outputs": []
    },
    {
      "cell_type": "code",
      "metadata": {
        "id": "-q1oz2NLSuPc"
      },
      "source": [
        "#  Merge your data fram for statistical analysis\n",
        "df_outer = pd.merge(df5, df4, on = 'PRODUCT' )\n",
        "df_outer"
      ],
      "execution_count": null,
      "outputs": []
    },
    {
      "cell_type": "code",
      "metadata": {
        "id": "VTbCqPFlhwNw"
      },
      "source": [
        "df_pro = pd.merge(df1,df_outer, left_index =True, right_index =True  )\n",
        "df_pro"
      ],
      "execution_count": null,
      "outputs": []
    },
    {
      "cell_type": "code",
      "metadata": {
        "id": "DnMUyebMmvCm"
      },
      "source": [
        "df_outer_pro = pd.merge(df_pro, df6, on = 'PRODUCT' )\n",
        "df_outer_pro"
      ],
      "execution_count": null,
      "outputs": []
    },
    {
      "cell_type": "code",
      "metadata": {
        "id": "zG7zu_tDneus"
      },
      "source": [
        "# Describe your data sets to get the statistical description of various column\n",
        "# Abidjan recorded the most usage \n",
        "df_outer_pro.describe(include='all')\n",
        "\n"
      ],
      "execution_count": null,
      "outputs": []
    },
    {
      "cell_type": "code",
      "metadata": {
        "id": "qjY5e2Udrtm_"
      },
      "source": [
        "df_outer_pro.head()"
      ],
      "execution_count": null,
      "outputs": []
    },
    {
      "cell_type": "code",
      "metadata": {
        "id": "oXqf4vtKtCcV"
      },
      "source": [
        ""
      ],
      "execution_count": null,
      "outputs": []
    }
  ]
}